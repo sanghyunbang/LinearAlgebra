{
 "cells": [
  {
   "cell_type": "markdown",
   "id": "61a78627",
   "metadata": {},
   "source": [
    "Row Echelon and Reduced Row Echelon Forms"
   ]
  },
  {
   "cell_type": "markdown",
   "id": "b5780359",
   "metadata": {},
   "source": [
    "\n",
    "T1 \n",
    "\n",
    "Find the reduced row echelon form of the augmented matrix for the linear system:\n",
    "\n",
    "![1-2T1](assets/ch01_2_T1.png)\n",
    "\n",
    "Use your result to determine whether the system is consistent and, if so, find its solution.\n"
   ]
  },
  {
   "cell_type": "code",
   "execution_count": 3,
   "id": "fe18cbdb",
   "metadata": {},
   "outputs": [],
   "source": [
    "# SymPy 설치\n",
    "# %pip install sympy"
   ]
  },
  {
   "cell_type": "code",
   "execution_count": 4,
   "id": "6fb03283",
   "metadata": {},
   "outputs": [
    {
     "name": "stdout",
     "output_type": "stream",
     "text": [
      "RREF of the augmented matrix:\n",
      "⎡               -34  ⎤\n",
      "⎢1  0  0  7/9   ──── ⎥\n",
      "⎢                63  ⎥\n",
      "⎢                    ⎥\n",
      "⎢0  1  0  -2/3  5/21 ⎥\n",
      "⎢                    ⎥\n",
      "⎣0  0  1  1/9   -13/9⎦\n",
      "\n",
      "Pivot columns(기본 변수 위치): (0, 1, 2)\n"
     ]
    }
   ],
   "source": [
    "import sympy as sp\n",
    "\n",
    "# sympy에서 소수 정밀도 없이 분수로 계산\n",
    "sp.init_printing(use_unicode=True)\n",
    "\n",
    "# 선형 시스템의 확대 행렬 정의\n",
    "A = sp.Matrix([\n",
    "    [6, 1, 0, 4, -3], # # 6x₁ + 1x₂ + 0x₃ + 4x₄ = -3\n",
    "    [-9, 2, 3, -8, 1],    # -9x₁ + 2x₂ + 3x₃ - 8x₄ = 1\n",
    "    [7, 0, -4, 5, 2]      # 7x₁ + 0x₂ - 4x₃ + 5x₄ = 2\n",
    "])\n",
    "\n",
    "# RREF(Reduced Row Echelon Form) 계산\n",
    "rref_matrix, pivot_columns = A.rref()\n",
    "\n",
    "# 출력\n",
    "print(\"RREF of the augmented matrix:\")\n",
    "sp.pprint(rref_matrix)\n",
    "\n",
    "print(\"\\nPivot columns(기본 변수 위치):\", pivot_columns)\n"
   ]
  },
  {
   "cell_type": "markdown",
   "id": "129b033a",
   "metadata": {},
   "source": [
    "## 📌 General Solution of the System\n",
    "\n",
    "From the reduced row echelon form (RREF), we obtain the following system of equations:\n",
    "\n",
    "* 추가용어 : leading variable과 free variable -> 아래에서 t로 표현되는 $x_4$가 free variable\n",
    "\n",
    "$$\n",
    "\\begin{aligned}\n",
    "x_1 + \\frac{7}{9}x_4 &= -34 \\\\\n",
    "x_2 - \\frac{2}{3}x_4 &= \\frac{5}{21} \\\\\n",
    "x_3 + \\frac{1}{9}x_4 &= -\\frac{13}{9}\n",
    "\\end{aligned}\n",
    "$$\n",
    "\n",
    "Let the free variable be $x_4 = t$, where $t \\in \\mathbb{R}$.  \n",
    "Then the general solution can be written as:\n",
    "\n",
    "$$\n",
    "\\begin{aligned}\n",
    "x_1 &= -34 - \\frac{7}{9}t \\\\\n",
    "x_2 &= \\frac{5}{21} + \\frac{2}{3}t \\\\\n",
    "x_3 &= -\\frac{13}{9} - \\frac{1}{9}t \\\\\n",
    "x_4 &= t\n",
    "\\end{aligned}\n",
    "$$\n",
    "\n",
    "Therefore, the system is **consistent** and has **infinitely many solutions**,  \n",
    "parameterized by the real number $t$.\n"
   ]
  },
  {
   "cell_type": "markdown",
   "id": "d7b4797f",
   "metadata": {},
   "source": [
    "T2\n",
    "\n",
    "![1-2T2](assets/ch01_2_T2.png)\n"
   ]
  },
  {
   "cell_type": "code",
   "execution_count": 9,
   "id": "b6c45f77",
   "metadata": {},
   "outputs": [
    {
     "name": "stdout",
     "output_type": "stream",
     "text": [
      "각 항의 계수: \n",
      "{x**2: B + 3*C + D - 4, x**3: A + C + D - 3, x: -A + 4*C + 6, 1: -B + 2*C - 2*D}\n",
      "===============================\n",
      "방정식: \n",
      "[Eq(-B + 2*C - 2*D, 0), Eq(-A + 4*C + 6, 0), Eq(B + 3*C + D - 4, 0), Eq(A + C + D - 3, 0)]\n",
      "===============================\n",
      "▶ 행렬 기반 풀이 결과:\n",
      "A = 32/5\n",
      "B = 36/5\n",
      "C = 1/10\n",
      "D = -7/2\n"
     ]
    }
   ],
   "source": [
    "import sympy as sp\n",
    "\n",
    "# 다룰 변수를 x로 선언\n",
    "x = sp.symbols('x')\n",
    "\n",
    "# 찾아야 할 미지수를 A,B,C,D로 선언 -> 이걸 통해서 solve()에서 값을 구할 수 있음\n",
    "A, B, C, D = sp.symbols('A B C D')\n",
    "\n",
    "# 좌변 분자 정의\n",
    "left = 3*x**3 + 4*x**2 - 6*x\n",
    "\n",
    "# 전체 공통 분모 정의\n",
    "denom = (x**2 + 2*x + 2) * (x - 1) * (x + 1)\n",
    "\n",
    "# 우변 전체를 하나의 통분된 식으로 정의 -> 이건 직접 계산 필요\n",
    "right = ((A*x + B)*(x - 1)*(x + 1) + \n",
    "         C*(x + 1)*(x**2 + 2*x + 2) +\n",
    "         D*(x - 1)*(x**2 + 2*x + 2))\n",
    "\n",
    "# 우변을 다 전개하기 -> 자동으로 전개해줌\n",
    "right_expanded = sp.expand(right)\n",
    "\n",
    "# 좌변을 우변에서 빼고, x 기준으로 항별로 묶기\n",
    "eqs = sp.collect(right_expanded - left, x, evaluate=False)\n",
    "\n",
    "# 각 항의 계수를 0과 같다고 두고 연립 방정식 만들기\n",
    "# sp.Eq()를 사용하여 방정식 정의 => sp.Eq(lhs, rhs) 형태\n",
    "# SymPy에서는 그냥 lhs == rhs로 하면 True인지 확인할 뿐 방정식으로 선언하는 게 아님\n",
    "# 따라서 sp.Eq()를 사용하여 방정식을 정의해야 함\n",
    "\n",
    "# eqs는 x의 항별로 묶인 딕셔너리 형태로, 각 항의 계수를 가져올 수 있음\n",
    "# 예를 들어, eqs.get(x**i, 0)는 x**i 항의 계수를 가져오고, 없으면 0을 반환함\n",
    "# eqs.get(x**i, 0)로 각 항의 계수를 가져오고, 없으면 0으로 처리\n",
    "\n",
    "print(\"각 항의 계수: \")\n",
    "print(eqs)\n",
    "print(\"===============================\")\n",
    "\n",
    "equations = [sp.Eq(eqs.get(x**i, 0), 0) for i in range(4)]\n",
    "\n",
    "print(\"방정식: \")\n",
    "print(equations)\n",
    "print(\"===============================\")\n",
    "\n",
    "\n",
    "# 연립 방정식 풀기: solve(식들, 변수들)\n",
    "solution = sp.solve(equations, (A, B, C, D))\n",
    "\n",
    "print(\"▶ 행렬 기반 풀이 결과:\")\n",
    "for var, val in solution.items():\n",
    "    print(f\"{var} = {val}\")\n"
   ]
  },
  {
   "cell_type": "markdown",
   "id": "0d9ff4a5",
   "metadata": {},
   "source": [
    "## Theorems\n",
    "\n",
    "### 1.2.1 Free Variable Theorem for Homogeneous Systems\n",
    "\n",
    "\"If a homogeneous linear system has n unknowns, and if the reduced row echelon form of its augmented matrix has r nonzero rows,  \n",
    "then the system has n-r free variables.\"\n",
    "\n",
    "\n",
    "### 1.2.2 A homogeneous linear system with more unknowns than equations has infinitely many solutions.\n"
   ]
  },
  {
   "cell_type": "markdown",
   "id": "bce05d1e",
   "metadata": {},
   "source": [
    "### 추가 중요한 점 개인 메모\n",
    "\n",
    "- Leading variables와 free variables는 정의상, RREF을 했을 때 leading 1을 coefficient로 가지는 변수이고, free variable은 그 행에서 leading외에 남아 있는 경우를 말한다.\n",
    "\n",
    "- Gaussian Elimination → REF  \n",
    "- Gauss–Jordan Elimination → RREF"
   ]
  },
  {
   "cell_type": "markdown",
   "id": "d38113e4",
   "metadata": {},
   "source": []
  },
  {
   "cell_type": "markdown",
   "id": "f4c290fe",
   "metadata": {},
   "source": []
  }
 ],
 "metadata": {
  "kernelspec": {
   "display_name": "Python 3",
   "language": "python",
   "name": "python3"
  },
  "language_info": {
   "codemirror_mode": {
    "name": "ipython",
    "version": 3
   },
   "file_extension": ".py",
   "mimetype": "text/x-python",
   "name": "python",
   "nbconvert_exporter": "python",
   "pygments_lexer": "ipython3",
   "version": "3.13.5"
  }
 },
 "nbformat": 4,
 "nbformat_minor": 5
}
